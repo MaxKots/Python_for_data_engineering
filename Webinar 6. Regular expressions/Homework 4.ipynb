{
 "cells": [
  {
   "cell_type": "code",
   "execution_count": 21,
   "id": "1689efa2-7bcb-4fde-a996-32cc39be3896",
   "metadata": {},
   "outputs": [],
   "source": [
    "import re\n",
    "\n",
    "def validate_car_id(car_id):\n",
    "\n",
    "    regexp = re.compile(r'^[АВЕКМНОРСТУХ]\\d{3}[АВЕКМНОРСТУХ]{2}(?P<reg>\\d{2,3})$')\n",
    "\n",
    "\n",
    "    match = regexp.match(car_id)\n",
    "    if match:\n",
    "        print(f\"Результат: Номер {car_id} валиден. Регион: {match['reg']}\")\n",
    "    else:\n",
    "        print(f\"Результат: Номер {car_id} не валиден\")"
   ]
  },
  {
   "cell_type": "code",
   "execution_count": 27,
   "id": "122b0134-7a7e-4546-8f63-35957dd9bd3a",
   "metadata": {},
   "outputs": [
    {
     "name": "stdout",
     "output_type": "stream",
     "text": [
      "Результат: Номер А222ВС96 валиден. Регион: 96\n",
      "Результат: Номер Б22ВВ193 не валиден\n"
     ]
    }
   ],
   "source": [
    "validate_car_id('А222ВС96')\n",
    "validate_car_id('Б22ВВ193')"
   ]
  },
  {
   "cell_type": "code",
   "execution_count": 28,
   "id": "8d6eb2b9-f7d0-49c8-958e-a45ec73eb3aa",
   "metadata": {},
   "outputs": [
    {
     "name": "stdout",
     "output_type": "stream",
     "text": [
      "Напишите функцию, которая будет удалять все последовательные повторы слов из заданной строки при помощи регулярных выражений\n"
     ]
    }
   ],
   "source": [
    "import re\n",
    "\n",
    "def remove_consecutive_duplicates(text):\n",
    "    result = re.sub(r'\\b(\\w+)( \\1)+\\b', r'\\1', text)\n",
    "    return result\n",
    "\n",
    "string = ('Напишите функцию функцию, которая будет будет будет будет '\n",
    "               'удалять все все все все последовательные повторы слов из из из из '\n",
    "               'заданной строки строки при помощи регулярных выражений')\n",
    "\n",
    "result = remove_consecutive_duplicates(string)\n",
    "print(result)"
   ]
  }
 ],
 "metadata": {
  "kernelspec": {
   "display_name": "Python 3 (ipykernel)",
   "language": "python",
   "name": "python3"
  },
  "language_info": {
   "codemirror_mode": {
    "name": "ipython",
    "version": 3
   },
   "file_extension": ".py",
   "mimetype": "text/x-python",
   "name": "python",
   "nbconvert_exporter": "python",
   "pygments_lexer": "ipython3",
   "version": "3.9.6"
  }
 },
 "nbformat": 4,
 "nbformat_minor": 5
}
