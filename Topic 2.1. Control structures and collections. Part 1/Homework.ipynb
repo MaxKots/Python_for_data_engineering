{
 "cells": [
  {
   "cell_type": "markdown",
   "id": "d08b7c4b-61e1-4e56-aa04-a5137bf7e0d7",
   "metadata": {},
   "source": [
    "**Задание 1**<br>\n",
    "Написать код на Python в среде Jupyter Notebook для решения следующей задачи.\n",
    "Дана переменная, в которой хранится слово из латинских букв. Напишите код,\n",
    "который выводит на экран:\n",
    "* среднюю букву, если число букв в слове нечётное;\n",
    "* две средних буквы, если число букв чётное."
   ]
  },
  {
   "cell_type": "code",
   "execution_count": 38,
   "id": "cba50c9a-8cf0-45f0-a8a6-7da91962b57d",
   "metadata": {},
   "outputs": [
    {
     "name": "stdin",
     "output_type": "stream",
     "text": [
      " test\n"
     ]
    },
    {
     "name": "stdout",
     "output_type": "stream",
     "text": [
      "word = 'test' Результат: es\n"
     ]
    }
   ],
   "source": [
    "n = input()\n",
    "print(f\"word = '{n}' Результат: {n[(len(n) // 2) - 1 : len(n) // 2 + 1]}\" if len(n) % 2 == 0 else f\"2. word = '{n}' Результат: {n[len(n)//2]}\")"
   ]
  },
  {
   "cell_type": "markdown",
   "id": "852673a5-1aaa-4c29-b514-2640bc1b42a6",
   "metadata": {},
   "source": [
    "**Задание 2 (необязательное)**<br>\n",
    "Написать код на Python в среде Jupyter Notebook для решения следующей задачи.\n",
    "Вы делаете MVP (минимально жизнеспособный продукт) dating-сервиса.\n",
    "У вас есть список юношей и девушек.\n",
    "Выдвигаем гипотезу: лучшие рекомендации получатся, если просто отсортировать\n",
    "имена по алфавиту и познакомить людей с одинаковыми индексами после\n",
    "сортировки. Но вы не будете никого знакомить, если кто-то может остаться без\n",
    "пары."
   ]
  },
  {
   "cell_type": "markdown",
   "id": "142656bf-42e8-42c8-9c73-0ca89a3becea",
   "metadata": {},
   "source": [
    "boys = [&apos;Peter&apos;, &apos;Alex&apos;, &apos;John&apos;, &apos;Arthur&apos;,\n",
    "&apos;Richard&apos;]\n",
    "girls = [&apos;Kate&apos;, &apos;Liza&apos;, &apos;Kira&apos;, &apos;Emma&apos;,\n",
    "&apos;Trisha&apos;]\n",
    "Результат:\n",
    "Идеальные пары:\n",
    "Alex и Emma\n",
    "Arthur и Kate\n",
    "John и Kira\n",
    "Peter и Liza\n",
    "Richard и Trisha\n",
    "boys = [&apos;Peter&apos;, &apos;Alex&apos;, &apos;John&apos;, &apos;Arthur&apos;,\n",
    "&apos;Richard&apos;, &apos;Michael&apos;]\n",
    "girls = [&apos;Kate&apos;, &apos;Liza&apos;, &apos;Kira&apos;, &apos;Emma&apos;,\n",
    "&apos;Trisha&apos;]\n",
    "Результат: Внимание, кто-то может остаться без пары!\n"
   ]
  },
  {
   "cell_type": "code",
   "execution_count": 30,
   "id": "4b5d1ab8-ce4e-4607-a71f-0cf82cbbbfb3",
   "metadata": {},
   "outputs": [],
   "source": [
    "boys = ['Peter', 'Alex', 'John', 'Arthur', 'Richard']\n",
    "girls = ['Kate', 'Liza', 'Kira', 'Emma', 'Trisha']\n",
    "# boys = ['Peter', 'Alex', 'John', 'Arthur', 'Richard', 'Michael']\n",
    "# girls = ['Kate', 'Liza', 'Kira', 'Emma', 'Trisha']"
   ]
  },
  {
   "cell_type": "code",
   "execution_count": 34,
   "id": "0a2212ca-8d05-4339-95b6-34e80913aa5a",
   "metadata": {},
   "outputs": [
    {
     "name": "stdout",
     "output_type": "stream",
     "text": [
      "Идеальные пары:\n",
      "Alex и Emma\n",
      "Arthur и Kate\n",
      "John и Kira\n",
      "Peter и Liza\n",
      "Richard и Trisha\n"
     ]
    }
   ],
   "source": [
    "print(f'Идеальные пары:\\n' + '\\n'.join(map(' и '.join, zip(map(str, sorted(boys)), sorted(girls)))) if len(boys) == len(girls) else 'Внимание, кто-то может остаться без пары!')"
   ]
  }
 ],
 "metadata": {
  "kernelspec": {
   "display_name": "Python 3 (ipykernel)",
   "language": "python",
   "name": "python3"
  },
  "language_info": {
   "codemirror_mode": {
    "name": "ipython",
    "version": 3
   },
   "file_extension": ".py",
   "mimetype": "text/x-python",
   "name": "python",
   "nbconvert_exporter": "python",
   "pygments_lexer": "ipython3",
   "version": "3.9.6"
  }
 },
 "nbformat": 4,
 "nbformat_minor": 5
}
