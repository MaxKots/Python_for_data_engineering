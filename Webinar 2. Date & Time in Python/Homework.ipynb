{
  "metadata": {
    "kernelspec": {
      "name": "python",
      "display_name": "Python (Pyodide)",
      "language": "python"
    },
    "language_info": {
      "codemirror_mode": {
        "name": "python",
        "version": 3
      },
      "file_extension": ".py",
      "mimetype": "text/x-python",
      "name": "python",
      "nbconvert_exporter": "python",
      "pygments_lexer": "ipython3",
      "version": "3.8"
    }
  },
  "nbformat_minor": 5,
  "nbformat": 4,
  "cells": [
    {
      "id": "b45f7c9a-5dad-4386-8b84-4b1e7687a6eb",
      "cell_type": "markdown",
      "source": "**Задание 1**\nПечатные газеты использовали свой формат дат для каждого выпуска. Для каждой\nгазеты из списка напишите формат указанной даты для перевода в объект datetime:\n\nThe Moscow Times - Wednesday, October 2, 2002<br>\nThe Guardian - Friday, 11.10.13<br>\nDaily News - Thursday, 18 August 1977<br>\n\nПример работы программы<br>\nПрограмма должна выводить на экран объекты типа datetime, соответствующие датам\nв условии задачи",
      "metadata": {}
    },
    {
      "id": "7145748c-a4fb-42aa-84dc-0dbbb432f8ad",
      "cell_type": "code",
      "source": "from datetime import datetime\n\nformats = {\n    \"The Moscow Times\": \"%A, %B %d, %Y\",\n    \"The Guardian\": \"%A, %d.%m.%y\",\n    \"Daily News\": \"%A, %d %B %Y\"\n}\n\n# Даты:\ndates = {\n    \"The Moscow Times\": \"Wednesday, October 2, 2002\",\n    \"The Guardian\": \"Friday, 11.10.13\",\n    \"Daily News\": \"Thursday, 18 August 1977\"\n}\n\n# Переводим в datetime\nfor newspaper, date_str in dates.items():\n    date_format = formats[newspaper]\n    date_object = datetime.strptime(date_str, date_format)\n    print(f\"{newspaper}- {date_object}\")",
      "metadata": {},
      "outputs": [
        {
          "name": "stdout",
          "output_type": "stream",
          "text": [
            "The Moscow Times- 2002-10-02 00:00:00\n",
            "The Guardian- 2013-10-11 00:00:00\n",
            "Daily News- 1977-08-18 00:00:00\n"
          ]
        }
      ],
      "execution_count": 9
    },
    {
      "id": "a86b03c6-b291-427a-872b-6b2e460db82a",
      "cell_type": "markdown",
      "source": "**Задание 2.** Напишите функцию date_range, которая возвращает список дат за период от start_date\nдо end_date. Даты должны вводиться в формате YYYY-MM-DD. В случае неверного\nформата или при start_date > end_date должен возвращаться пустой список.\n",
      "metadata": {}
    },
    {
      "id": "5c2bbb56-9815-4aed-b7da-2915e358a008",
      "cell_type": "code",
      "source": "from datetime import datetime, timedelta\n\ndef date_range(start_date, end_date):\n    try:\n        start = datetime.strptime(start_date, '%Y-%m-%d')\n        end = datetime.strptime(end_date, '%Y-%m-%d')\n    except ValueError:\n        return []  # Неверный формат даты\n\n    if start > end:\n        return []  # start_date не позже end_date\n\n    dates = []\n    current_date = start\n    \n    # Генерим даты\n    while current_date <= end:\n        dates.append(current_date.strftime('%Y-%m-%d'))\n        current_date += timedelta(days=1)\n\n    return dates",
      "metadata": {
        "trusted": true
      },
      "outputs": [],
      "execution_count": 6
    },
    {
      "id": "e6a2efa3-b088-4cde-ac12-022cc50ec919",
      "cell_type": "code",
      "source": "date_range('2022-01-01', '2022-01-03')",
      "metadata": {
        "trusted": true
      },
      "outputs": [
        {
          "execution_count": 9,
          "output_type": "execute_result",
          "data": {
            "text/plain": "['2022-01-01', '2022-01-02', '2022-01-03']"
          },
          "metadata": {}
        }
      ],
      "execution_count": 9
    },
    {
      "id": "3f45a706-d144-4659-b11f-80190e5d6198",
      "cell_type": "code",
      "source": "",
      "metadata": {
        "trusted": true
      },
      "outputs": [],
      "execution_count": null
    }
  ]
}