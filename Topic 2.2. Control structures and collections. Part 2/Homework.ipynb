{
 "cells": [
  {
   "cell_type": "markdown",
   "id": "344f3803-5c9b-4da1-b206-8ebb7b8ef27a",
   "metadata": {},
   "source": [
    "**Задание 1**<br>\n",
    "Дана переменная, в которой хранится словарь, содержащий геометки для каждого пользователя\n",
    "(пример структуры данных приведён ниже). Вам нужно написать программу, которая выведет на\n",
    "экран множество уникальных геометок всех пользователей.\n",
    "Пример работы программы:\n",
    "<br>\n",
    "ids = {&apos;user1&apos;: [213, 213, 213, 15, 213],\n",
    "&apos;user2&apos;: [54, 54, 119, 119, 119],\n",
    "&apos;user3&apos;: [213, 98, 98, 35]}\n",
    "Результат: {98, 35, 15, 213, 54, 119}"
   ]
  },
  {
   "cell_type": "code",
   "execution_count": 8,
   "id": "0b6052fe-4ce1-409e-b73d-6211058d2b13",
   "metadata": {},
   "outputs": [
    {
     "name": "stdout",
     "output_type": "stream",
     "text": [
      "{98, 35, 15, 213, 54, 119}\n"
     ]
    }
   ],
   "source": [
    "# словарь геометок\n",
    "ids = {\n",
    "    'user1': [213, 213, 213, 15, 213],\n",
    "    'user2': [54, 54, 119, 119, 119],\n",
    "    'user3': [213, 98, 98, 35]\n",
    "}\n",
    "\n",
    "print(set().union(*(geotags for geotags in ids.values())))"
   ]
  },
  {
   "cell_type": "markdown",
   "id": "06bd21c4-a4f1-44ff-94b1-f56f3b49b572",
   "metadata": {},
   "source": [
    "**Задание 2 (Необязательное)**<br>\n",
    "Дана переменная, в которой хранится список поисковых запросов пользователя (пример структуры\n",
    "данных приведён ниже). Вам нужно написать программу, которая выведет на экран распределение\n",
    "количества слов в запросах в требуемом виде.\n",
    "\n",
    "Пример работы программы:\n",
    "<br>\n",
    "queries = [\n",
    "&apos;смотреть сериалы онлайн&apos;,\n",
    "&apos;новости спорта&apos;,\n",
    "&apos;афиша кино&apos;,\n",
    "&apos;курс доллара&apos;,\n",
    "&apos;сериалы этим летом&apos;,\n",
    "&apos;курс по питону&apos;,\n",
    "&apos;сериалы про спорт&apos;,\n",
    "]\n",
    "<br>\n",
    "Результат:\n",
    "<br>\n",
    "Поисковых запросов, содержащих 2 слов(а): 42.86%\n",
    "Поисковых запросов, содержащих 3 слов(а): 57.14%"
   ]
  },
  {
   "cell_type": "code",
   "execution_count": 53,
   "id": "db179371-f206-4eb2-9e0b-5637a19106f0",
   "metadata": {},
   "outputs": [
    {
     "name": "stdout",
     "output_type": "stream",
     "text": [
      "Поисковых запросов, содержащих 2 слов(а): 42.86%\n",
      "Поисковых запросов, содержащих 3 слов(а): 57.14%\n"
     ]
    }
   ],
   "source": [
    "queries = [\n",
    "    'смотреть сериалы онлайн',\n",
    "    'новости спорта',\n",
    "    'афиша кино',\n",
    "    'курс доллара',\n",
    "    'сериалы этим летом',\n",
    "    'курс по питону',\n",
    "    'сериалы про спорт'\n",
    "]\n",
    "\n",
    "word_count = {}\n",
    "for query in sorted(queries):\n",
    "    count = len(query.split())\n",
    "    if count in word_count:\n",
    "        word_count[count] += 1\n",
    "    else:\n",
    "        word_count[count] = 1\n",
    "        \n",
    "for word, cnt in word_count.items():\n",
    "    percentage = (cnt/len(queries)) * 100\n",
    "    print(f'Поисковых запросов, содержащих {word} слов(а): {percentage:.2f}%')"
   ]
  }
 ],
 "metadata": {
  "kernelspec": {
   "display_name": "Python 3 (ipykernel)",
   "language": "python",
   "name": "python3"
  },
  "language_info": {
   "codemirror_mode": {
    "name": "ipython",
    "version": 3
   },
   "file_extension": ".py",
   "mimetype": "text/x-python",
   "name": "python",
   "nbconvert_exporter": "python",
   "pygments_lexer": "ipython3",
   "version": "3.9.6"
  }
 },
 "nbformat": 4,
 "nbformat_minor": 5
}
