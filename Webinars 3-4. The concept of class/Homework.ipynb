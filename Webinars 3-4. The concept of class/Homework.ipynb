{
 "cells": [
  {
   "cell_type": "code",
   "execution_count": 315,
   "id": "b1b4b1dd-89f3-4528-90ed-b003c97a3716",
   "metadata": {},
   "outputs": [],
   "source": [
    "import json\n",
    "from decimal import Decimal as D\n",
    "import os\n",
    "from datetime import datetime\n",
    "\n",
    "class Account:\n",
    "    def __init__(self, name: str, balance: D):\n",
    "        self.name = name\n",
    "        self.balance = balance\n",
    "        self.transactions_file = f\"{self.name}_transactions.txt\" # файл истории\n",
    "        self.transactions = []\n",
    "        self.upd_transactions(\"Первое пополнение\", self.balance)\n",
    "\n",
    "    # Обновление файла истории\n",
    "    def upd_transactions(self, _type: str, amount: D):\n",
    "        with open(self.transactions_file, 'a') as file:\n",
    "            file.write(f\"{datetime.now().strftime('%Y-%m-%d %H:%M:%S')} - {_type}: {amount}\\n\")\n",
    "        \n",
    "    def deposit(self, amount):\n",
    "        self.balance += amount\n",
    "#         self.transactions.append(f'Зачисление: {amount}')\n",
    "        self.upd_transactions('Зачисление', amount)\n",
    "        print(f'Счет успешно пополнен на {amount} руб.\\nТекущий баланс: {self.balance} руб.') \n",
    "        \n",
    "    def withdraw(self, amount):\n",
    "        if amount > self.balance: \n",
    "#             raise ValueError(\"Недостаточно денег на счете\")\n",
    "            print(f\"Недостаточно денег на счете.\\nМаксимально возможная сумма снятия: {self.balance} руб.\")\n",
    "            return\n",
    "        else:\n",
    "            self.balance -= amount\n",
    "#             self.transactions.append(f'Снятие: {amount}')\n",
    "            self.upd_transactions('Списание', amount)\n",
    "            print(f'{amount} руб. успешно сняты со счета.\\nТекущий баланс: {self.balance} руб.')\n",
    "    \n",
    "\n",
    "    def get_transactions(self):\n",
    "        with open(self.transactions_file, 'r') as f:\n",
    "            return print(*f.readlines())\n",
    "        \n",
    "        "
   ]
  },
  {
   "cell_type": "code",
   "execution_count": 316,
   "id": "b6b05797-5e98-4951-b4a6-c67b864aa630",
   "metadata": {},
   "outputs": [],
   "source": [
    "acc1 = Account('Your bank account', 10000.50)"
   ]
  },
  {
   "cell_type": "code",
   "execution_count": 317,
   "id": "b73719cc-b175-480e-9cac-c30bb5aa7928",
   "metadata": {},
   "outputs": [
    {
     "name": "stdout",
     "output_type": "stream",
     "text": [
      "Счет успешно пополнен на 1000 руб.\n",
      "Текущий баланс: 11000.5 руб.\n"
     ]
    }
   ],
   "source": [
    "acc1.deposit(1000)"
   ]
  },
  {
   "cell_type": "code",
   "execution_count": 318,
   "id": "88ca546f-524e-410c-96e0-c8695c1fbdee",
   "metadata": {},
   "outputs": [
    {
     "name": "stdout",
     "output_type": "stream",
     "text": [
      "Недостаточно денег на счете.\n",
      "Максимально возможная сумма снятия: 11000.5 руб.\n"
     ]
    }
   ],
   "source": [
    "acc1.withdraw(12000)"
   ]
  },
  {
   "cell_type": "code",
   "execution_count": 319,
   "id": "63374302-5d59-472b-ac02-58c15344f545",
   "metadata": {},
   "outputs": [
    {
     "name": "stdout",
     "output_type": "stream",
     "text": [
      "11000 руб. успешно сняты со счета.\n",
      "Текущий баланс: 0.5 руб.\n"
     ]
    }
   ],
   "source": [
    "acc1.withdraw(11000)"
   ]
  },
  {
   "cell_type": "code",
   "execution_count": 320,
   "id": "d73b4549-d0c5-47b8-affa-0ab8982e04a6",
   "metadata": {},
   "outputs": [
    {
     "name": "stdout",
     "output_type": "stream",
     "text": [
      "2024-10-05 15:00:40 - Первое пополнение: 10000.5\n",
      " 2024-10-05 15:00:40 - Зачисление: 1000\n",
      " 2024-10-05 15:00:41 - Списание: 11000\n",
      "\n"
     ]
    }
   ],
   "source": [
    "acc1.get_transactions()"
   ]
  },
  {
   "cell_type": "code",
   "execution_count": null,
   "id": "b037570c-a1da-4171-b186-1d8bfd96e910",
   "metadata": {},
   "outputs": [],
   "source": []
  }
 ],
 "metadata": {
  "kernelspec": {
   "display_name": "Python 3 (ipykernel)",
   "language": "python",
   "name": "python3"
  },
  "language_info": {
   "codemirror_mode": {
    "name": "ipython",
    "version": 3
   },
   "file_extension": ".py",
   "mimetype": "text/x-python",
   "name": "python",
   "nbconvert_exporter": "python",
   "pygments_lexer": "ipython3",
   "version": "3.9.6"
  }
 },
 "nbformat": 4,
 "nbformat_minor": 5
}
