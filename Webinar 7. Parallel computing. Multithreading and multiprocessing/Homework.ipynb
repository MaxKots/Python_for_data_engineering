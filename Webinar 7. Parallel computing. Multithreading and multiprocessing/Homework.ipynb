{
 "cells": [
  {
   "cell_type": "markdown",
   "id": "2df37965-8ee9-429f-b294-3d24d830585f",
   "metadata": {},
   "source": [
    "### Чего так жёстко!?"
   ]
  },
  {
   "cell_type": "markdown",
   "id": "1cba3b28-1546-43a9-a298-a9d5c8e4f7c8",
   "metadata": {},
   "source": [
    "**Задание 1**\n",
    "<br>\n",
    "Требуется параллельно (насколько возможно с помощью потоков) выполнить\n",
    "вычисления по формуле 1, вычисления по формуле 2. Затем выполнить\n",
    "вычисления по формуле 3, которые выглядят следующим образом: результат\n",
    "вычислений 1 + результат вычислений 2.\n",
    "Выполнить последовательно на 10 000 итераций и 100 000 итераций.\n",
    "<br>\n",
    "Формула 1: f(x) = x^2-x^2+x*4-x*5+x+x\n",
    "<br>\n",
    "Формула 2: f(x) = x+x\n",
    "<br>\n",
    "Вывести длительность выполнения всех 10 000 итераций и 100 000 итераций в\n",
    "секундах в разбивке по шагам вычислений 1, 2 и 3."
   ]
  },
  {
   "cell_type": "code",
   "execution_count": 12,
   "id": "a621586e-5561-48b4-8063-f201fd6d1b67",
   "metadata": {},
   "outputs": [],
   "source": [
    "import threading\n",
    "import time\n",
    "\n",
    "# f(x) = x^4 - x^5 + 2*x\n",
    "def func1(x: int) -> float:\n",
    "    return x**4 - x**5 + 2 * x\n",
    "\n",
    "# func2(x) = 2 * x\n",
    "def func2(x: int) -> float:\n",
    "    return 2 * x \n",
    "\n",
    "# func3 = func1 + func2\n",
    "def func3(x: int) -> float:\n",
    "    return func1(x) + func2(x)\n",
    "\n",
    "def calculate(index, results, x) -> tuple:\n",
    "    results[index] = (func1(x), func2(x), func3(x))\n",
    "\n",
    "def run_calculations(iterations):\n",
    "    results = [None] * iterations\n",
    "    threads = []\n",
    "\n",
    "    start_time = time.time()\n",
    "\n",
    "    # Запуск\n",
    "    for i in range(iterations):\n",
    "        thread = threading.Thread(target=calculate, args=(i, results, i))\n",
    "        threads.append(thread)\n",
    "        thread.start()\n",
    "    # Ждем завершения\n",
    "    for thread in threads:\n",
    "        thread.join()\n",
    "\n",
    "    duration = time.time() - start_time\n",
    "    return duration, results # возврат времени и результатов\n",
    "\n",
    "# Вычисления\n",
    "def main(x):\n",
    "    duration, results = run_calculations(x)\n",
    "    print(f'Время выполнения для {x} итераций: {duration:.3f} секунд')"
   ]
  },
  {
   "cell_type": "code",
   "execution_count": 13,
   "id": "3d058615-0bde-4cf2-a762-769773cb59af",
   "metadata": {},
   "outputs": [
    {
     "name": "stdout",
     "output_type": "stream",
     "text": [
      "Время выполнения для 10000 итераций: 1.305 секунд\n"
     ]
    }
   ],
   "source": [
    "main(10000)"
   ]
  },
  {
   "cell_type": "code",
   "execution_count": 14,
   "id": "58237477-965c-4b6e-93f4-d3910df4e99c",
   "metadata": {},
   "outputs": [
    {
     "name": "stdout",
     "output_type": "stream",
     "text": [
      "Время выполнения для 100000 итераций: 13.785 секунд\n"
     ]
    }
   ],
   "source": [
    "main(100000)"
   ]
  },
  {
   "cell_type": "markdown",
   "id": "ec705985-5afe-4c6b-92cf-9b978f4e9edf",
   "metadata": {},
   "source": [
    "**Задание 2 (не обязательное)**\n",
    "<br>\n",
    "Требуется параллельно (насколько возможно с помощью процессов) выполнить\n",
    "вычисления по формуле 1, вычисления по формуле 2. Затем выполнить\n",
    "вычисления по формуле 3, которые выглядят следующим образом: результат\n",
    "вычислений 1 + результат вычислений 2.\n",
    "<br>\n",
    "Выполнить последовательно на 10 000 итераций и 100 000 итераций.\n",
    "<br>\n",
    "Формула 1: f(x) = x^2-x^2+x*4-x*5+x+x\n",
    "<br>\n",
    "Формула 2: f(x) = x+x\n",
    "<br>\n",
    "Вывести длительность выполнения всех 10 000 итераций и 100 000 итераций в\n",
    "секундах в разбивке по шагам вычислений 1, 2 и 3."
   ]
  },
  {
   "cell_type": "code",
   "execution_count": 20,
   "id": "06f52006-5060-4eca-94be-00fd2d7be159",
   "metadata": {},
   "outputs": [],
   "source": [
    "import threading\n",
    "import time\n",
    "\n",
    "# f(x) = x^4 - x^5 + 2*x\n",
    "def func1(x: int) -> float:\n",
    "    return x**4 - x**5 + 2 * x\n",
    "\n",
    "# func2(x) = 2 * x\n",
    "def func2(x: int) -> float:\n",
    "    return 2 * x \n",
    "\n",
    "# func3 = func1 + func2\n",
    "def func3(x: int) -> float:\n",
    "    return func1(x) + func2(x)\n",
    "\n",
    "def calculate(index, results, x) -> tuple:\n",
    "    start_func1 = time.time()\n",
    "    res_func1 = func1(x)\n",
    "    elapsed_func1 = time.time() - start_func1\n",
    "\n",
    "    start_func2 = time.time()\n",
    "    res_func2 = func2(x)\n",
    "    elapsed_func2 = time.time() - start_func2\n",
    "\n",
    "    start_func3 = time.time()\n",
    "    res_func3 = func3(x)\n",
    "    elapsed_func3 = time.time() - start_func3\n",
    "\n",
    "    results[index] = (res_func1, elapsed_func1, res_func2, elapsed_func2, res_func3, elapsed_func3)\n",
    "\n",
    "def run_calculations(iterations):\n",
    "    results = [None] * iterations\n",
    "    threads = []\n",
    "\n",
    "    start_time = time.time()\n",
    "\n",
    "    # Запуск\n",
    "    for i in range(iterations):\n",
    "        thread = threading.Thread(target=calculate, args=(i, results, i))\n",
    "        threads.append(thread)\n",
    "        thread.start()\n",
    "\n",
    "    # Ждем завершения\n",
    "    for thread in threads:\n",
    "        thread.join()\n",
    "\n",
    "    total_duration = time.time() - start_time\n",
    "    return total_duration, results # возврат времени и результатов\n",
    "\n",
    "# Вычисления\n",
    "def main(iterations):\n",
    "    duration, results = run_calculations(iterations)\n",
    "\n",
    "    total_func1_time = sum(res[1] for res in results)\n",
    "    total_func2_time = sum(res[3] for res in results)\n",
    "    total_func3_time = sum(res[5] for res in results)\n",
    "\n",
    "    print(f'Время выполнения для {iterations} итераций: {duration:.3f} сек')\n",
    "    print(f'Время выполнения func1: {total_func1_time:.3f} сек')\n",
    "    print(f'Время выполнения func2: {total_func2_time:.3f} сек')\n",
    "    print(f'Время выполнения func3: {total_func3_time:.3f} сек')"
   ]
  },
  {
   "cell_type": "code",
   "execution_count": 19,
   "id": "5127a7b0-639c-4e89-bf9a-888b2389177a",
   "metadata": {},
   "outputs": [
    {
     "name": "stdout",
     "output_type": "stream",
     "text": [
      "Время выполнения для 10000 итераций: 1.325 секунд\n",
      "Время выполнения func1: 0.003 секунд\n",
      "Время выполнения func2: 0.000 секунд\n",
      "Время выполнения func3: 0.016 секунд\n"
     ]
    }
   ],
   "source": [
    "main(10000)"
   ]
  },
  {
   "cell_type": "code",
   "execution_count": 21,
   "id": "ccf15acc-d00e-465d-8a7f-b3b21a8fae43",
   "metadata": {},
   "outputs": [
    {
     "name": "stdout",
     "output_type": "stream",
     "text": [
      "Время выполнения для 100000 итераций: 14.608 сек\n",
      "Время выполнения func1: 0.204 сек\n",
      "Время выполнения func2: 0.032 сек\n",
      "Время выполнения func3: 0.126 сек\n"
     ]
    }
   ],
   "source": [
    "main(100000)"
   ]
  },
  {
   "cell_type": "code",
   "execution_count": null,
   "id": "6546e63f-719f-4e31-8e46-18df89357bef",
   "metadata": {},
   "outputs": [],
   "source": []
  }
 ],
 "metadata": {
  "kernelspec": {
   "display_name": "Python 3 (ipykernel)",
   "language": "python",
   "name": "python3"
  },
  "language_info": {
   "codemirror_mode": {
    "name": "ipython",
    "version": 3
   },
   "file_extension": ".py",
   "mimetype": "text/x-python",
   "name": "python",
   "nbconvert_exporter": "python",
   "pygments_lexer": "ipython3",
   "version": "3.9.6"
  }
 },
 "nbformat": 4,
 "nbformat_minor": 5
}
