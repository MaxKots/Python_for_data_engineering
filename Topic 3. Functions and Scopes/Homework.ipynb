{
 "cells": [
  {
   "cell_type": "markdown",
   "id": "61b4ea86-96c1-45e4-9568-67f5cbdebcc7",
   "metadata": {},
   "source": [
    "<br>\n",
    "Написать код на Python в среде Jupyter Notebook для решения следующей задачи.\n",
    "Вам нужно помочь секретарю автоматизировать работу. Для этого нужно написать\n",
    "программу, которая будет на основе хранимых данных исполнять пользовательские\n",
    "команды.\n",
    "<br>\n",
    "Исходные данные имеют следующую структуру:\n",
    "<br><br>\n",
    "*1. перечень всех документов*\n",
    "<br>\n",
    "documents = [\n",
    "{&apos;type&apos;: &apos;passport&apos;, &apos;number&apos;: &apos;2207 876234&apos;,\n",
    "&apos;name&apos;: &apos;Василий Гупкин&apos;},\n",
    "<br>\n",
    "{&apos;type&apos;: &apos;invoice&apos;, &apos;number&apos;: &apos;11-2&apos;,\n",
    "&apos;name&apos;: &apos;Геннадий Покемонов&apos;},\n",
    "<br>\n",
    "{&apos;type&apos;: &apos;insurance&apos;, &apos;number&apos;: &apos;10006&apos;,\n",
    "&apos;name&apos;: &apos;Аристарх Павлов&apos;}\n",
    "]\n",
    "<br><br>\n",
    "*2. перечень полок, на которых хранятся документы (если документ есть в documents, он\n",
    "обязательно должен быть и в directories)*\n",
    "<br>\n",
    "directories = {\n",
    "&apos;1&apos;: [&apos;2207 876234&apos;, &apos;11-2&apos;],\n",
    "&apos;2&apos;: [&apos;10006&apos;],\n",
    "&apos;3&apos;: []\n",
    "}\n",
    "<br>\n",
    "Общие требования к программе:\n",
    "<br>\n",
    "- код должен быть грамотно декомпозирован: каждая функция отвечает за\n",
    "свою конкретную задачу, дублирующиеся функции переиспользуются, а их\n",
    "код не повторяется;\n",
    "- в коде отсутствуют глобальные переменные, за исключением documents и\n",
    "directories;\n",
    "- пользовательский ввод обрабатывается в цикле while до тех пор, пока\n",
    "пользователь явно не завершит программу вводом команды «q».\n"
   ]
  },
  {
   "cell_type": "markdown",
   "id": "9456e028-ea5a-4dfa-b200-85baffa3935d",
   "metadata": {},
   "source": [
    "### **Задание 1**\n",
    "Пользователь по команде «p» может узнать владельца документа по его номеру.\n",
    "Пример работы программы:\n",
    "<br>\n",
    "Введите команду: p\n",
    "<br>\n",
    "Введите номер документа:\n",
    "10006\n",
    "<br>\n",
    "Результат:\n",
    "Владелец документа: Аристарх Павлов"
   ]
  },
  {
   "cell_type": "code",
   "execution_count": 4,
   "id": "e03c4f40-7c09-42af-938f-f319e4f65b91",
   "metadata": {},
   "outputs": [
    {
     "name": "stdin",
     "output_type": "stream",
     "text": [
      "Введите команду:  p\n",
      "Введите номер документа:  10006\n"
     ]
    },
    {
     "name": "stdout",
     "output_type": "stream",
     "text": [
      "Владелец документа: Аристарх Павлов\n"
     ]
    },
    {
     "name": "stdin",
     "output_type": "stream",
     "text": [
      "Введите команду:  q\n"
     ]
    }
   ],
   "source": [
    "#Перечень документов\n",
    "documents = [\n",
    "    {'type': 'passport', 'number': '2207 876234', 'name': 'Василий Гупкин'},\n",
    "    {'type': 'invoice', 'number': '11-2', 'name': 'Геннадий Покемонов'},\n",
    "    {'type': 'insurance', 'number': '10006', 'name': 'Аристарх Павлов'}\n",
    "]\n",
    "\n",
    "#Перечень полок\n",
    "directories = {\n",
    "    '1': ['2207 876234', '11-2'],\n",
    "    '2': ['10006'],\n",
    "    '3': []\n",
    "}\n",
    "\n",
    "\n",
    "def find_owner(doc_number):\n",
    "    \"\"\"Функция для поиска владельца документа по его номеру\"\"\"\n",
    "    for document in documents:\n",
    "        if document['number'] == doc_number:\n",
    "            return document['name']\n",
    "    return None\n",
    "\n",
    "def run():\n",
    "    \"\"\"Основная функция для взаимодействия с пользователем.\n",
    "    \n",
    "    Запрашивает ввод команды и выполняет соответствующие действия\n",
    "    Команды:\n",
    "        - p: поиск владельца документа\n",
    "        - q: выход из программы\n",
    "    \"\"\"\n",
    "    while (command := input(\"Введите команду: \").strip().lower()) != 'q':\n",
    "        if command == 'p':\n",
    "            doc_number = input(\"Введите номер документа: \").strip()\n",
    "            owner = find_owner(doc_number)\n",
    "            print(f\"Владелец документа: {owner}\" if owner else \"Документ не найден\")\n",
    "        else:\n",
    "            print(\"Неизвестная команда. Пожалуйста, попробуйте снова.\")\n",
    "\n",
    "# Запуск основной функции\n",
    "run()"
   ]
  },
  {
   "cell_type": "markdown",
   "id": "f9b6dc05-32de-4307-9462-7eb65356d0f8",
   "metadata": {},
   "source": [
    "### **Задание 2 (не обязательное)**\n",
    "Секретарь по команде «s» может по номеру документа узнать, на какой полке документ\n",
    "хранится.\n",
    "<br>\n",
    "Пример работы программы:\n",
    "<br>\n",
    "Введите команду:\n",
    "s\n",
    "<br>\n",
    "Введите номер документа:\n",
    "10006\n",
    "<br>\n",
    "Результат:\n",
    "Документ хранится на полке: 2"
   ]
  },
  {
   "cell_type": "code",
   "execution_count": 1,
   "id": "9c2256f7-ae79-408d-a161-029c18f17160",
   "metadata": {},
   "outputs": [
    {
     "name": "stdin",
     "output_type": "stream",
     "text": [
      "Введите команду:  s\n",
      "Введите номер документа:  10006\n"
     ]
    },
    {
     "name": "stdout",
     "output_type": "stream",
     "text": [
      "Документ хранится на полке: 2\n"
     ]
    },
    {
     "name": "stdin",
     "output_type": "stream",
     "text": [
      "Введите команду:  p\n",
      "Введите номер документа:  10006\n"
     ]
    },
    {
     "name": "stdout",
     "output_type": "stream",
     "text": [
      "Владелец документа: Аристарх Павлов\n"
     ]
    },
    {
     "name": "stdin",
     "output_type": "stream",
     "text": [
      "Введите команду:  q\n"
     ]
    }
   ],
   "source": [
    "#Перечень документов\n",
    "documents = [\n",
    "    {'type': 'passport', 'number': '2207 876234', 'name': 'Василий Гупкин'},\n",
    "    {'type': 'invoice', 'number': '11-2', 'name': 'Геннадий Покемонов'},\n",
    "    {'type': 'insurance', 'number': '10006', 'name': 'Аристарх Павлов'}\n",
    "]\n",
    "\n",
    "#Перечень полок\n",
    "directories = {\n",
    "    '1': ['2207 876234', '11-2'],\n",
    "    '2': ['10006'],\n",
    "    '3': []\n",
    "}\n",
    "\n",
    "def find_owner(doc_number):\n",
    "    \"\"\"Функция для поиска владельца документа по его номеру\"\"\"\n",
    "    for document in documents:\n",
    "        if document['number'] == doc_number:\n",
    "            return document['name']\n",
    "    return None\n",
    "\n",
    "\n",
    "def find_shelf(doc_number):\n",
    "    \"\"\"Новая функция для поиска полки, на которой хранится документ\"\"\"\n",
    "    for shelf, docs in directories.items():\n",
    "        if doc_number in docs:\n",
    "            return shelf\n",
    "    return None\n",
    "\n",
    "def run():\n",
    "    \"\"\"Основная функция для взаимодействия с пользователем.\n",
    "    \n",
    "    Запрашивает ввод команды и выполняет соответствующие действия.\n",
    "    Команды:\n",
    "        - p: поиск владельца документа\n",
    "        - s: поиск полки документа\n",
    "        - q: выход из программы\n",
    "    \"\"\"\n",
    "    while (command := input(\"Введите команду: \").strip().lower()) != 'q':\n",
    "        if command == 'p':\n",
    "            doc_number = input(\"Введите номер документа: \").strip()\n",
    "            owner = find_owner(doc_number)\n",
    "            print(f\"Владелец документа: {owner}\" if owner else \"Документ не найден.\")\n",
    "        elif command == 's':\n",
    "            doc_number = input(\"Введите номер документа: \").strip()\n",
    "            shelf = find_shelf(doc_number)\n",
    "            print(f\"Документ хранится на полке: {shelf}\" if shelf else \"Документ не найден на полках.\")\n",
    "        else:\n",
    "            print(\"Неизвестная команда. Пожалуйста, попробуйте снова.\")\n",
    "\n",
    "# Запуск основной функции\n",
    "run()"
   ]
  },
  {
   "cell_type": "code",
   "execution_count": null,
   "id": "0159b9c1-01b2-444c-a0c9-c9d3fee62282",
   "metadata": {},
   "outputs": [],
   "source": []
  }
 ],
 "metadata": {
  "kernelspec": {
   "display_name": "Python 3 (ipykernel)",
   "language": "python",
   "name": "python3"
  },
  "language_info": {
   "codemirror_mode": {
    "name": "ipython",
    "version": 3
   },
   "file_extension": ".py",
   "mimetype": "text/x-python",
   "name": "python",
   "nbconvert_exporter": "python",
   "pygments_lexer": "ipython3",
   "version": "3.9.6"
  }
 },
 "nbformat": 4,
 "nbformat_minor": 5
}
